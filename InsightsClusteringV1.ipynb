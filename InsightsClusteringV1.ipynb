{
 "cells": [
  {
   "cell_type": "code",
   "execution_count": 44,
   "metadata": {},
   "outputs": [],
   "source": [
    "import pandas as pd\n",
    "import glob\n",
    "import os\n",
    "import numpy as np\n",
    "import seaborn as sns\n",
    "import matplotlib.pyplot as plt\n",
    "from sklearn.cluster import KMeans\n",
    "from sklearn.pipeline import Pipeline\n",
    "from sklearn.impute import SimpleImputer"
   ]
  },
  {
   "cell_type": "code",
   "execution_count": 45,
   "metadata": {
    "scrolled": true
   },
   "outputs": [],
   "source": [
    "def split_train_test(data, test_ratio):\n",
    "    shuffled_indices = np.random.permutation(len(data))\n",
    "    test_set_size = int(len(data) * test_ratio)\n",
    "    test_indices = shuffled_indices[:test_set_size]\n",
    "    train_indices = shuffled_indices[test_set_size:]\n",
    "    return data.iloc[train_indices], data.iloc[test_indices]"
   ]
  },
  {
   "cell_type": "code",
   "execution_count": 46,
   "metadata": {},
   "outputs": [],
   "source": [
    "def file_extraction(path):\n",
    "    directories = glob.glob(path + '\\*')\n",
    "    tfiles = []\n",
    "    files = []\n",
    "    for d in directories:\n",
    "        tfiles.extend(glob.glob(d + '\\*'))\n",
    "    for f in tfiles:\n",
    "        if(target_file in f):\n",
    "            files.append(f)\n",
    "    return files"
   ]
  },
  {
   "cell_type": "code",
   "execution_count": 47,
   "metadata": {},
   "outputs": [],
   "source": [
    "def file_to_panda(files):\n",
    "    data = []\n",
    "    for f in files:\n",
    "        x = pd.read_json(f, orient='index')\n",
    "        name = os.path.splitext(f)[0]\n",
    "        name += '_MIX.json'\n",
    "        x.name = name\n",
    "        data.append(x)\n",
    "    return data"
   ]
  },
  {
   "cell_type": "code",
   "execution_count": 48,
   "metadata": {},
   "outputs": [],
   "source": [
    "def select_features(d):\n",
    "    y = d.drop(undesired_features, axis=0)\n",
    "    y = y.transpose()\n",
    "    y.name = d.name\n",
    "    return y"
   ]
  },
  {
   "cell_type": "code",
   "execution_count": 49,
   "metadata": {},
   "outputs": [],
   "source": [
    "def write(d):\n",
    "    d.to_json(d.name)"
   ]
  },
  {
   "cell_type": "code",
   "execution_count": 50,
   "metadata": {},
   "outputs": [],
   "source": [
    "def merge(data, col):\n",
    "    df = pd.DataFrame(columns=col)\n",
    "    for d in data:\n",
    "        df = df.append(d.transpose(), ignore_index=True)\n",
    "    df.name = path + '\\insight_all.json'\n",
    "    return df"
   ]
  },
  {
   "cell_type": "code",
   "execution_count": 51,
   "metadata": {},
   "outputs": [],
   "source": [
    "def column_extractor(data):\n",
    "    mylist = []\n",
    "    for d in data:\n",
    "        mylist.extend(d.transpose().columns)\n",
    "    return list(dict.fromkeys(mylist))"
   ]
  },
  {
   "cell_type": "code",
   "execution_count": 52,
   "metadata": {},
   "outputs": [],
   "source": [
    "path = r'C:\\Users\\Ithan Velarde\\Desktop\\Stage 2020\\Horse Data\\Small_dataset'\n",
    "target_file = 'insight.json'\n",
    "undesired_features = ['id', 'acidose', 'energy_hr', 'energy_speed', 'bpm_after_effort', 'bpm_after_15_min', 'v200', 'model',\n",
    "                      'best_200', 'best_250', 'best500', 'best_600', 'mean_hr_first_trot', 'mean_speed_first_trot', \n",
    "                      'mean_symmetry_first_trot', 'mean_regularity_first_trot', 'mean_hr_first_canter', \n",
    "                      'mean_speed_first_canter', 'mean_regularity_first_canter', 'is_gallop', 'rating', 'sex', 'age_days']"
   ]
  },
  {
   "cell_type": "code",
   "execution_count": 53,
   "metadata": {
    "scrolled": true
   },
   "outputs": [
    {
     "data": {
      "text/html": [
       "<div>\n",
       "<style scoped>\n",
       "    .dataframe tbody tr th:only-of-type {\n",
       "        vertical-align: middle;\n",
       "    }\n",
       "\n",
       "    .dataframe tbody tr th {\n",
       "        vertical-align: top;\n",
       "    }\n",
       "\n",
       "    .dataframe thead th {\n",
       "        text-align: right;\n",
       "    }\n",
       "</style>\n",
       "<table border=\"1\" class=\"dataframe\">\n",
       "  <thead>\n",
       "    <tr style=\"text-align: right;\">\n",
       "      <th></th>\n",
       "      <th>max_heart_rate</th>\n",
       "      <th>max_stride_frequency</th>\n",
       "      <th>max_stride_length</th>\n",
       "      <th>max_speed</th>\n",
       "      <th>bpm_at_end</th>\n",
       "      <th>stride_frequency_at_60</th>\n",
       "      <th>stride_length_at_60</th>\n",
       "      <th>duration</th>\n",
       "      <th>work_duration_seconds</th>\n",
       "      <th>distance</th>\n",
       "      <th>...</th>\n",
       "      <th>time_best_600</th>\n",
       "      <th>time_best_800</th>\n",
       "      <th>time_best_1000</th>\n",
       "      <th>split_0_200</th>\n",
       "      <th>split_200_400</th>\n",
       "      <th>split_400_600</th>\n",
       "      <th>split_600_800</th>\n",
       "      <th>split_800_1000</th>\n",
       "      <th>split_1000_1200</th>\n",
       "      <th>split_1200_1400</th>\n",
       "    </tr>\n",
       "  </thead>\n",
       "  <tbody>\n",
       "    <tr>\n",
       "      <th>count</th>\n",
       "      <td>290</td>\n",
       "      <td>310</td>\n",
       "      <td>288</td>\n",
       "      <td>288</td>\n",
       "      <td>281</td>\n",
       "      <td>287</td>\n",
       "      <td>287</td>\n",
       "      <td>311</td>\n",
       "      <td>310</td>\n",
       "      <td>311</td>\n",
       "      <td>...</td>\n",
       "      <td>286.0</td>\n",
       "      <td>278.00</td>\n",
       "      <td>276.0</td>\n",
       "      <td>289.0</td>\n",
       "      <td>288.0</td>\n",
       "      <td>286.0</td>\n",
       "      <td>278.0</td>\n",
       "      <td>276.0</td>\n",
       "      <td>276.0</td>\n",
       "      <td>271.0</td>\n",
       "    </tr>\n",
       "    <tr>\n",
       "      <th>unique</th>\n",
       "      <td>88</td>\n",
       "      <td>46</td>\n",
       "      <td>88</td>\n",
       "      <td>121</td>\n",
       "      <td>78</td>\n",
       "      <td>42</td>\n",
       "      <td>46</td>\n",
       "      <td>59</td>\n",
       "      <td>169</td>\n",
       "      <td>228</td>\n",
       "      <td>...</td>\n",
       "      <td>158.0</td>\n",
       "      <td>159.00</td>\n",
       "      <td>179.0</td>\n",
       "      <td>121.0</td>\n",
       "      <td>104.0</td>\n",
       "      <td>93.0</td>\n",
       "      <td>100.0</td>\n",
       "      <td>95.0</td>\n",
       "      <td>100.0</td>\n",
       "      <td>90.0</td>\n",
       "    </tr>\n",
       "    <tr>\n",
       "      <th>top</th>\n",
       "      <td>215</td>\n",
       "      <td>100</td>\n",
       "      <td>152</td>\n",
       "      <td>207</td>\n",
       "      <td>53</td>\n",
       "      <td>115</td>\n",
       "      <td>145</td>\n",
       "      <td>33</td>\n",
       "      <td>0</td>\n",
       "      <td>0</td>\n",
       "      <td>...</td>\n",
       "      <td>36.0</td>\n",
       "      <td>48.33</td>\n",
       "      <td>103.5</td>\n",
       "      <td>24.0</td>\n",
       "      <td>22.0</td>\n",
       "      <td>22.0</td>\n",
       "      <td>20.5</td>\n",
       "      <td>20.0</td>\n",
       "      <td>20.5</td>\n",
       "      <td>23.0</td>\n",
       "    </tr>\n",
       "    <tr>\n",
       "      <th>freq</th>\n",
       "      <td>15</td>\n",
       "      <td>21</td>\n",
       "      <td>10</td>\n",
       "      <td>8</td>\n",
       "      <td>12</td>\n",
       "      <td>30</td>\n",
       "      <td>22</td>\n",
       "      <td>23</td>\n",
       "      <td>21</td>\n",
       "      <td>21</td>\n",
       "      <td>...</td>\n",
       "      <td>7.0</td>\n",
       "      <td>10.00</td>\n",
       "      <td>6.0</td>\n",
       "      <td>13.0</td>\n",
       "      <td>13.0</td>\n",
       "      <td>14.0</td>\n",
       "      <td>13.0</td>\n",
       "      <td>15.0</td>\n",
       "      <td>14.0</td>\n",
       "      <td>13.0</td>\n",
       "    </tr>\n",
       "  </tbody>\n",
       "</table>\n",
       "<p>4 rows × 27 columns</p>\n",
       "</div>"
      ],
      "text/plain": [
       "        max_heart_rate  max_stride_frequency  max_stride_length  max_speed  \\\n",
       "count              290                   310                288        288   \n",
       "unique              88                    46                 88        121   \n",
       "top                215                   100                152        207   \n",
       "freq                15                    21                 10          8   \n",
       "\n",
       "        bpm_at_end  stride_frequency_at_60  stride_length_at_60  duration  \\\n",
       "count          281                     287                  287       311   \n",
       "unique          78                      42                   46        59   \n",
       "top             53                     115                  145        33   \n",
       "freq            12                      30                   22        23   \n",
       "\n",
       "        work_duration_seconds  distance  ...  time_best_600  time_best_800  \\\n",
       "count                     310       311  ...          286.0         278.00   \n",
       "unique                    169       228  ...          158.0         159.00   \n",
       "top                         0         0  ...           36.0          48.33   \n",
       "freq                       21        21  ...            7.0          10.00   \n",
       "\n",
       "        time_best_1000  split_0_200  split_200_400  split_400_600  \\\n",
       "count            276.0        289.0          288.0          286.0   \n",
       "unique           179.0        121.0          104.0           93.0   \n",
       "top              103.5         24.0           22.0           22.0   \n",
       "freq               6.0         13.0           13.0           14.0   \n",
       "\n",
       "        split_600_800  split_800_1000  split_1000_1200  split_1200_1400  \n",
       "count           278.0           276.0            276.0            271.0  \n",
       "unique          100.0            95.0            100.0             90.0  \n",
       "top              20.5            20.0             20.5             23.0  \n",
       "freq             13.0            15.0             14.0             13.0  \n",
       "\n",
       "[4 rows x 27 columns]"
      ]
     },
     "execution_count": 53,
     "metadata": {},
     "output_type": "execute_result"
    }
   ],
   "source": [
    "files = file_extraction(path)\n",
    "data = file_to_panda(files)\n",
    "columns = column_extractor(data)\n",
    "df = merge(data, columns)\n",
    "df, df.name = df.drop(undesired_features, axis=1), df.name\n",
    "df.describe()"
   ]
  },
  {
   "cell_type": "code",
   "execution_count": 54,
   "metadata": {},
   "outputs": [],
   "source": [
    "train_set, test_set = split_train_test(df, 0.2)"
   ]
  },
  {
   "cell_type": "code",
   "execution_count": 55,
   "metadata": {},
   "outputs": [],
   "source": [
    "pipeline = Pipeline([('imputer', SimpleImputer(strategy=\"median\"))])\n",
    "X = pipeline.fit_transform(train_set)"
   ]
  },
  {
   "cell_type": "code",
   "execution_count": 56,
   "metadata": {},
   "outputs": [
    {
     "data": {
      "text/plain": [
       "(249, 27)"
      ]
     },
     "execution_count": 56,
     "metadata": {},
     "output_type": "execute_result"
    }
   ],
   "source": [
    "X.shape"
   ]
  },
  {
   "cell_type": "code",
   "execution_count": 57,
   "metadata": {},
   "outputs": [],
   "source": [
    "kmeans = KMeans(n_clusters=2, random_state=0).fit(X)"
   ]
  },
  {
   "cell_type": "code",
   "execution_count": 58,
   "metadata": {},
   "outputs": [],
   "source": [
    "y = kmeans.predict(X)"
   ]
  },
  {
   "cell_type": "code",
   "execution_count": 59,
   "metadata": {},
   "outputs": [
    {
     "data": {
      "text/plain": [
       "Index(['max_heart_rate', 'max_stride_frequency', 'max_stride_length',\n",
       "       'max_speed', 'bpm_at_end', 'stride_frequency_at_60',\n",
       "       'stride_length_at_60', 'duration', 'work_duration_seconds', 'distance',\n",
       "       'work_distance_meters', 'intensity', 'symmetry', 'regularity',\n",
       "       'max_acceleration', 'time_best_200', 'time_best_400', 'time_best_600',\n",
       "       'time_best_800', 'time_best_1000', 'split_0_200', 'split_200_400',\n",
       "       'split_400_600', 'split_600_800', 'split_800_1000', 'split_1000_1200',\n",
       "       'split_1200_1400'],\n",
       "      dtype='object')"
      ]
     },
     "execution_count": 59,
     "metadata": {},
     "output_type": "execute_result"
    }
   ],
   "source": [
    "train_set.columns"
   ]
  },
  {
   "cell_type": "code",
   "execution_count": 60,
   "metadata": {
    "scrolled": false
   },
   "outputs": [
    {
     "name": "stdout",
     "output_type": "stream",
     "text": [
      "[silhouette] >Determining optimal [euclidean] clustering by silhouette score..\n"
     ]
    },
    {
     "name": "stderr",
     "output_type": "stream",
     "text": [
      "100%|█████████████████████████████████████████████████████████████████████████████████| 23/23 [00:00<00:00, 300.18it/s]\n"
     ]
    },
    {
     "name": "stdout",
     "output_type": "stream",
     "text": [
      "[clusteval] >Fin.\n"
     ]
    },
    {
     "data": {
      "image/png": "[encoded data removed]",
      "text/plain": [
       "<Figure size 1080x576 with 1 Axes>"
      ]
     },
     "metadata": {
      "needs_background": "light"
     },
     "output_type": "display_data"
    },
    {
     "name": "stdout",
     "output_type": "stream",
     "text": [
      "[silhouette] >Estimated number of n_clusters: 2, average silhouette_score=0.725\n"
     ]
    },
    {
     "data": {
      "image/png": "[encoded data removed]",
      "text/plain": [
       "<Figure size 1296x504 with 2 Axes>"
      ]
     },
     "metadata": {
      "needs_background": "light"
     },
     "output_type": "display_data"
    }
   ],
   "source": [
    "# Import library\n",
    "from clusteval import clusteval\n",
    "\n",
    "# Set parameters, as an example dbscan\n",
    "ce = clusteval(method='silhouette')\n",
    "\n",
    "# Fit to find optimal number of clusters using dbscan\n",
    "results= ce.fit(X)\n",
    "\n",
    "# Make plot of the cluster evaluation\n",
    "ce.plot()\n",
    "\n",
    "# Make scatter plot. Note that the first two coordinates are used for plotting.\n",
    "ce.scatter(X)\n",
    "\n",
    "# results is a dict with various output statistics. One of them are the labels.\n",
    "cluster_labels = results['labx']"
   ]
  }
 ],
 "metadata": {
  "kernelspec": {
   "display_name": "Python 3",
   "language": "python",
   "name": "python3"
  },
  "language_info": {
   "codemirror_mode": {
    "name": "ipython",
    "version": 3
   },
   "file_extension": ".py",
   "mimetype": "text/x-python",
   "name": "python",
   "nbconvert_exporter": "python",
   "pygments_lexer": "ipython3",
   "version": "3.7.1"
  }
 },
 "nbformat": 4,
 "nbformat_minor": 2
}
