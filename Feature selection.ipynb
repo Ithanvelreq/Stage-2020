{
 "cells": [
  {
   "cell_type": "code",
   "execution_count": 35,
   "metadata": {},
   "outputs": [],
   "source": [
    "import pandas as pd\n",
    "import glob\n",
    "import os"
   ]
  },
  {
   "cell_type": "code",
   "execution_count": 110,
   "metadata": {},
   "outputs": [],
   "source": [
    "path = r'C:\\Users\\Ithan Velarde\\Desktop\\Stage 2020\\Horse Data\\Small_dataset_in_csv1'\n",
    "undesired_features = ['timestamp', 'latitude', 'longitude', 'run', 'propulsion', 'alert', 'heart_rate_variability', 'lo_cardio', 'altitude']\n",
    "target_file = 'moments.csv'"
   ]
  },
  {
   "cell_type": "code",
   "execution_count": 111,
   "metadata": {},
   "outputs": [],
   "source": [
    "def file_extraction(path):\n",
    "    directories = glob.glob(path + '\\*')\n",
    "    tfiles = []\n",
    "    files = []\n",
    "    for d in directories:\n",
    "        tfiles.extend(glob.glob(d + '\\*'))\n",
    "    \n",
    "    for f in tfiles:\n",
    "        if(target_file in f):\n",
    "            files.append(f)\n",
    "    return files   "
   ]
  },
  {
   "cell_type": "code",
   "execution_count": 122,
   "metadata": {},
   "outputs": [],
   "source": [
    "def file_to_panda(files):\n",
    "    data = []\n",
    "    for f in files:\n",
    "        x = pd.read_csv(f)\n",
    "        name = os.path.splitext(f)[0]\n",
    "        name += '_MIX.csv'\n",
    "        x.name = name\n",
    "        data.append(x)\n",
    "    return data"
   ]
  },
  {
   "cell_type": "code",
   "execution_count": 124,
   "metadata": {},
   "outputs": [],
   "source": [
    "def remove_features(data):\n",
    "    for d in data:\n",
    "        y = d.drop(undesired_features, axis=1)\n",
    "        print('lol')\n",
    "        print(y)\n",
    "        y.to_csv(d.name)"
   ]
  },
  {
   "cell_type": "code",
   "execution_count": null,
   "metadata": {
    "scrolled": true
   },
   "outputs": [],
   "source": [
    "files = file_extraction(path)\n",
    "data = file_to_panda(files)\n",
    "remove_features(data)"
   ]
  }
 ],
 "metadata": {
  "kernelspec": {
   "display_name": "Python 3",
   "language": "python",
   "name": "python3"
  },
  "language_info": {
   "codemirror_mode": {
    "name": "ipython",
    "version": 3
   },
   "file_extension": ".py",
   "mimetype": "text/x-python",
   "name": "python",
   "nbconvert_exporter": "python",
   "pygments_lexer": "ipython3",
   "version": "3.7.1"
  }
 },
 "nbformat": 4,
 "nbformat_minor": 2
}
