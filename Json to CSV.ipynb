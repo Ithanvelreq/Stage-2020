{
 "cells": [
  {
   "cell_type": "code",
   "execution_count": 1,
   "metadata": {},
   "outputs": [],
   "source": [
    "import pandas as pd\n",
    "import glob\n",
    "import os\n",
    "import json\n",
    "from multiprocess.pool import Pool"
   ]
  },
  {
   "cell_type": "code",
   "execution_count": 7,
   "metadata": {},
   "outputs": [],
   "source": [
    "\"\"\"\n",
    "path contains all the paths to data folders\n",
    "\"\"\"\n",
    "path = r'C:\\Users\\Ithan Velarde\\Desktop\\Stage 2020\\Horse Data\\Small_dataset_in_csv'\n",
    "\n",
    "#target_files = ['insight', 'moments', 'training_sections']\n",
    "target_files = ['insight']"
   ]
  },
  {
   "cell_type": "code",
   "execution_count": 14,
   "metadata": {},
   "outputs": [],
   "source": [
    "def write(file):\n",
    "    file_nature = os.path.splitext(file)[0].split(\"\\\\\")[-1]\n",
    "    print(file_nature)\n",
    "    print (file)\n",
    "    print('.csv' not in file)\n",
    "    if(file_nature in target_files and '.csv' not in f):\n",
    "        print(f\"loading file {file}\")\n",
    "        fi = pd.read_json(file, orient='index')\n",
    "        pa = os.path.splitext(file)[0].split(\".\")[-1]\n",
    "        pa = pa+\".csv\"\n",
    "        print(\"writing to \" + pa)\n",
    "        fi.to_csv(pa)\n",
    "    else:\n",
    "        print(\"ignoring \" + file_nature)"
   ]
  },
  {
   "cell_type": "code",
   "execution_count": 15,
   "metadata": {
    "scrolled": true
   },
   "outputs": [],
   "source": [
    "\"\"\"\n",
    "Create a list of all files to convert\n",
    "\"\"\"\n",
    "directories = glob.glob(path + '\\*')\n",
    "files = []\n",
    "for d in directories:\n",
    "    files.extend(glob.glob(d + '\\*'))"
   ]
  },
  {
   "cell_type": "code",
   "execution_count": null,
   "metadata": {},
   "outputs": [],
   "source": [
    "for f in files:\n",
    "    write(f)\n",
    "    "
   ]
  }
 ],
 "metadata": {
  "kernelspec": {
   "display_name": "Python 3",
   "language": "python",
   "name": "python3"
  },
  "language_info": {
   "codemirror_mode": {
    "name": "ipython",
    "version": 3
   },
   "file_extension": ".py",
   "mimetype": "text/x-python",
   "name": "python",
   "nbconvert_exporter": "python",
   "pygments_lexer": "ipython3",
   "version": "3.7.1"
  }
 },
 "nbformat": 4,
 "nbformat_minor": 2
}
