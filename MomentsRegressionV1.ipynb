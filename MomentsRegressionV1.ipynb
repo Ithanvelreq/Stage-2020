{
 "cells": [
  {
   "cell_type": "code",
   "execution_count": 1,
   "metadata": {},
   "outputs": [],
   "source": [
    "#import all the needed functions\n",
    "import torch\n",
    "import torchvision\n",
    "import torch.nn as nn\n",
    "import torchvision.transforms as transforms\n",
    "import pandas as pd\n",
    "import glob\n",
    "import os\n",
    "import numpy as np\n",
    "from torch.utils.data import Dataset, DataLoader\n",
    "import matplotlib.pyplot as plt"
   ]
  },
  {
   "cell_type": "code",
   "execution_count": 2,
   "metadata": {},
   "outputs": [],
   "source": [
    "class ArioneoDataset(Dataset):\n",
    "    \n",
    "    def file_extraction(self, path):\n",
    "        directories = glob.glob(path + '\\*')\n",
    "        tfiles = []\n",
    "        files = []\n",
    "        for d in directories:\n",
    "            tfiles.extend(glob.glob(d + '\\*'))\n",
    "\n",
    "        for f in tfiles:\n",
    "            if(target_file in f):\n",
    "                files.append(f)\n",
    "        return files\n",
    "\n",
    "    def file_to_panda(self, files):\n",
    "        data = []\n",
    "        for f in files:\n",
    "            x = pd.read_json(f)\n",
    "            name = os.path.splitext(f)[0]\n",
    "            name += '_MIX.json'\n",
    "            x.name = name\n",
    "            data.append(x)\n",
    "        return data\n",
    "    \n",
    "    def select_features(self, d):\n",
    "        y = d.drop(undesired_features, axis=1)\n",
    "        y.name = d.name\n",
    "        return y\n",
    "    \n",
    "    def longest_data_finder(self, data):\n",
    "        maxi = 0\n",
    "        for d in data:\n",
    "            if(d.shape[0]>maxi):\n",
    "                maxi = d.shape[0]\n",
    "        return maxi\n",
    "    \n",
    "    def adapt_size_with_mean(self, d, maxi):\n",
    "        name = d.name\n",
    "        size = ((maxi - d.shape[0]), d.shape[1])\n",
    "        df = pd.DataFrame(np.zeros(size), columns=d.columns)\n",
    "        df=df.mask(df==0).fillna(d.mean())\n",
    "        d = d.append(df, ignore_index=True)\n",
    "        d.name = name\n",
    "        return d\n",
    "    \n",
    "    def split_test_train(self, ratio=0.2, shuffle=True):\n",
    "        \n",
    "        if shuffle:\n",
    "            random_index = torch.randperm(self.data.shape[0])\n",
    "            self.data = self.data[random_index]\n",
    "            self.targets = self.targets[random_index]\n",
    "            \n",
    "        test_size = int(self.data.shape[0]*ratio)\n",
    "        train_size = int(self.data.shape[0] - test_size)\n",
    "        \n",
    "        self.data, test_data = torch.split(self.data, [train_size, test_size])\n",
    "        self.targets, test_targets = torch.split(self.targets, [train_size, test_size])\n",
    "        \n",
    "        self.data = torch.tensor(self.data)\n",
    "        self.targets = torch.tensor(self.targets)\n",
    "        \n",
    "        return ArioneoDataset(data=test_data, targets=test_targets)\n",
    "\n",
    "    def __getitem__(self, index):\n",
    "        \n",
    "        img, target = self.data[index], self.targets[index]        \n",
    "        return img, target\n",
    "    \n",
    "    def __len__(self):\n",
    "        return len(self.data)\n",
    "\n",
    "\n",
    "    def __init__(self, path=None, target_file=None, undesired_features=None, label=None, data=None, \n",
    "                 targets=None, transform=None, target_transform=None):\n",
    "        \n",
    "        if path is not None:\n",
    "            files = self.file_extraction(path)\n",
    "            data = self.file_to_panda(files)\n",
    "            maxi = self.longest_data_finder(data)\n",
    "            XdataFrames = []\n",
    "            ydataFrames = []\n",
    "\n",
    "            for d in data:\n",
    "                d = self.adapt_size_with_mean(d, maxi)\n",
    "                f = d.loc[:, label]\n",
    "                d = self.select_features(d)\n",
    "                XdataFrames.append(d)\n",
    "                ydataFrames.append(f)\n",
    "                \n",
    "            self.data = torch.empty(len(XdataFrames), XdataFrames[0].shape[0], XdataFrames[0].shape[1])\n",
    "            self.targets = torch.empty(len(ydataFrames), ydataFrames[0].shape[0])\n",
    "\n",
    "            for i in range(len(XdataFrames)):\n",
    "                self.data[i] = torch.tensor(XdataFrames[i].to_numpy())\n",
    "                self.targets[i] = torch.tensor(ydataFrames[i].to_numpy())\n",
    "\n",
    "            self.data = torch.tensor(self.data)\n",
    "            self.targets = torch.tensor(self.targets)\n",
    "        else:\n",
    "            self.data = torch.tensor(data)\n",
    "            self.targets = torch.tensor(targets)"
   ]
  },
  {
   "cell_type": "code",
   "execution_count": 3,
   "metadata": {},
   "outputs": [],
   "source": [
    "path = r'C:\\Users\\Ithan Velarde\\Desktop\\Stage 2020\\Horse Data\\Small_dataset'\n",
    "target_file = 'moments.json'\n",
    "undesired_features = ['timestamp', 'latitude', 'longitude', 'run', 'propulsion', 'alert', 'heart_rate_variability', 'lo_cardio', 'altitude', 'bpm']\n",
    "label = 'bpm'\n",
    "train_dataset = ArioneoDataset(path=path, target_file=target_file, undesired_features=undesired_features, label=label)\n",
    "test_dataset = train_dataset.split_test_train()"
   ]
  },
  {
   "cell_type": "code",
   "execution_count": 4,
   "metadata": {},
   "outputs": [
    {
     "name": "stdout",
     "output_type": "stream",
     "text": [
      "torch.Size([252, 6223, 9])\n",
      "torch.Size([252, 6223])\n"
     ]
    }
   ],
   "source": [
    "print(train_dataset.data.shape)\n",
    "print(train_dataset.targets.shape)"
   ]
  },
  {
   "cell_type": "code",
   "execution_count": 5,
   "metadata": {},
   "outputs": [],
   "source": [
    "train_loader = torch.utils.data.DataLoader(dataset=train_dataset, batch_size = 5, shuffle=True)\n",
    "test_loader = torch.utils.data.DataLoader(dataset=test_dataset, batch_size = 5, shuffle=True)"
   ]
  },
  {
   "cell_type": "code",
   "execution_count": 9,
   "metadata": {},
   "outputs": [],
   "source": [
    "#NN classifier with it's hyperparameters\n",
    "class NeuralNet(nn.Module):\n",
    "    def __init__(self, input_size, output_size):\n",
    "        super(NeuralNet, self).__init__()\n",
    "        self.layer1 = nn.Linear(input_size, 10000)\n",
    "        self.layer2 = nn.Linear(10000, output_size)\n",
    "        self.relu = nn.ReLU()\n",
    "\n",
    "    def forward(self, x):\n",
    "        output = self.layer1(x)\n",
    "        output = self.relu(output)\n",
    "        output = self.layer2(output)\n",
    "        return output"
   ]
  },
  {
   "cell_type": "code",
   "execution_count": 10,
   "metadata": {},
   "outputs": [],
   "source": [
    "num_epochs = 5\n",
    "\n",
    "learning_rate = 0.001\n",
    "\n",
    "model = NeuralNet(train_dataset.data.shape[1]*train_dataset.data.shape[2], train_dataset.targets.shape[1])\n",
    "\n",
    "lossFunction = nn.MSELoss()\n",
    "optimizer = torch.optim.Adam(model.parameters(), lr=learning_rate)"
   ]
  },
  {
   "cell_type": "code",
   "execution_count": null,
   "metadata": {
    "scrolled": true
   },
   "outputs": [],
   "source": [
    "#fitting process\n",
    "total_step = len(train_loader)\n",
    "lo = []\n",
    "for epoch in range(num_epochs):\n",
    "    for i, (images,labels) in enumerate(train_loader):\n",
    "        images = images.reshape(-1,56007)\n",
    "        out = model(images)\n",
    "        loss = lossFunction(out,labels)\n",
    "        p = loss.item()\n",
    "        lo.append(p)\n",
    "        \n",
    "        optimizer.zero_grad()\n",
    "        loss.backward()\n",
    "        optimizer.step()\n",
    "        if (i+1) % 20 == 0:\n",
    "            print('Epoch [{}/{}], Step [{}/{}], Loss: {:.4f}' .format(epoch+1, num_epochs, i+1, total_step, p))\n",
    "            plt.plot(list(range(len(lo))), lo)\n",
    "            plt.show()                "
   ]
  },
  {
   "cell_type": "code",
   "execution_count": null,
   "metadata": {
    "scrolled": true
   },
   "outputs": [],
   "source": [
    "#testing process\n",
    "with torch.no_grad():\n",
    "\tcorrect = 0\n",
    "\ttotal = 0\n",
    "\tfor images,labels in test_loader:\n",
    "\t\tprint(images.shape)\n",
    "\t\timages = images.reshape(-1,56007)\n",
    "\t\tout = model(images)\n",
    "\t\t_,predicted = torch.max(out.data,1)\n",
    "\t\ttotal += labels.size(0)\n",
    "\t\tcorrect += (predicted==labels).sum().item()\n",
    "\t\tprint('Accuracy of the network on the 10000 test images: {} %'.format(100 * correct / total))"
   ]
  },
  {
   "cell_type": "code",
   "execution_count": null,
   "metadata": {},
   "outputs": [],
   "source": []
  }
 ],
 "metadata": {
  "kernelspec": {
   "display_name": "Python 3",
   "language": "python",
   "name": "python3"
  },
  "language_info": {
   "codemirror_mode": {
    "name": "ipython",
    "version": 3
   },
   "file_extension": ".py",
   "mimetype": "text/x-python",
   "name": "python",
   "nbconvert_exporter": "python",
   "pygments_lexer": "ipython3",
   "version": "3.7.1"
  }
 },
 "nbformat": 4,
 "nbformat_minor": 2
}
