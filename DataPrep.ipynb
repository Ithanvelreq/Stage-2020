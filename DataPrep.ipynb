{
 "cells": [
  {
   "cell_type": "code",
   "execution_count": 1,
   "metadata": {},
   "outputs": [],
   "source": [
    "import pandas as pd\n",
    "import glob\n",
    "import os\n",
    "import numpy as np"
   ]
  },
  {
   "cell_type": "code",
   "execution_count": 2,
   "metadata": {},
   "outputs": [],
   "source": [
    "path = r'C:\\Users\\Ithan Velarde\\Desktop\\Stage 2020\\Horse Data\\Small_dataset'\n",
    "target_file = 'moments.json'\n",
    "undesired_features = ['timestamp', 'latitude', 'longitude', 'run', 'propulsion', 'alert', 'heart_rate_variability', 'lo_cardio', 'altitude']"
   ]
  },
  {
   "cell_type": "code",
   "execution_count": 3,
   "metadata": {},
   "outputs": [],
   "source": [
    "def file_extraction(path):\n",
    "    directories = glob.glob(path + '\\*')\n",
    "    tfiles = []\n",
    "    files = []\n",
    "    for d in directories:\n",
    "        tfiles.extend(glob.glob(d + '\\*'))\n",
    "    \n",
    "    for f in tfiles:\n",
    "        if(target_file in f):\n",
    "            files.append(f)\n",
    "    return files  "
   ]
  },
  {
   "cell_type": "code",
   "execution_count": 4,
   "metadata": {},
   "outputs": [],
   "source": [
    "def file_to_panda(files):\n",
    "    data = []\n",
    "    for f in files:\n",
    "        x = pd.read_json(f)\n",
    "        name = os.path.splitext(f)[0]\n",
    "        name += '_MIX.json'\n",
    "        x.name = name\n",
    "        data.append(x)\n",
    "    return data"
   ]
  },
  {
   "cell_type": "code",
   "execution_count": 5,
   "metadata": {},
   "outputs": [],
   "source": [
    "def select_features(d):\n",
    "    y = d.drop(undesired_features, axis=1)\n",
    "    y.name = d.name\n",
    "    return y"
   ]
  },
  {
   "cell_type": "code",
   "execution_count": 6,
   "metadata": {},
   "outputs": [],
   "source": [
    "def adapt_size_with_mean(d, maxi):\n",
    "    name = d.name\n",
    "    size = ((maxi - d.shape[0]), d.shape[1])\n",
    "    df = pd.DataFrame(np.zeros(size), columns=d.columns)\n",
    "    df=df.mask(df==0).fillna(d.mean())\n",
    "    d = d.append(df, ignore_index=True)\n",
    "    d.name = name\n",
    "    return d"
   ]
  },
  {
   "cell_type": "code",
   "execution_count": 7,
   "metadata": {},
   "outputs": [],
   "source": [
    "def longest_data_finder(data):\n",
    "    maxi = 0\n",
    "    for d in data:\n",
    "        if(d.shape[0]>maxi):\n",
    "            maxi = d.shape[0]\n",
    "    return maxi"
   ]
  },
  {
   "cell_type": "code",
   "execution_count": 8,
   "metadata": {},
   "outputs": [],
   "source": [
    "def add_time_index(d):\n",
    "    d['time'] = range(0, d.shape[0])\n",
    "    d.set_index('time')\n",
    "    return d"
   ]
  },
  {
   "cell_type": "code",
   "execution_count": 9,
   "metadata": {},
   "outputs": [],
   "source": [
    "def write(d):\n",
    "    d.to_json(d.name)"
   ]
  },
  {
   "cell_type": "code",
   "execution_count": 10,
   "metadata": {
    "scrolled": false
   },
   "outputs": [],
   "source": [
    "files = file_extraction(path)\n",
    "data = file_to_panda(files)\n",
    "maxi = longest_data_finder(data)\n",
    "for d in data:\n",
    "    d = select_features(d)\n",
    "    d = adapt_size_with_mean(d, maxi)\n",
    "    write(d)"
   ]
  }
 ],
 "metadata": {
  "kernelspec": {
   "display_name": "Python 3",
   "language": "python",
   "name": "python3"
  },
  "language_info": {
   "codemirror_mode": {
    "name": "ipython",
    "version": 3
   },
   "file_extension": ".py",
   "mimetype": "text/x-python",
   "name": "python",
   "nbconvert_exporter": "python",
   "pygments_lexer": "ipython3",
   "version": "3.7.1"
  }
 },
 "nbformat": 4,
 "nbformat_minor": 2
}
