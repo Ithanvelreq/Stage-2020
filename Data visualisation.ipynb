{
 "cells": [
  {
   "cell_type": "code",
   "execution_count": 34,
   "metadata": {},
   "outputs": [],
   "source": [
    "import pandas as pd\n",
    "import glob\n",
    "import os\n",
    "%matplotlib inline"
   ]
  },
  {
   "cell_type": "code",
   "execution_count": null,
   "metadata": {
    "scrolled": false
   },
   "outputs": [],
   "source": [
    "file = r'C:\\Users\\Ithan Velarde\\Desktop\\Stage 2020\\Horse Data\\Small_dataset\\16554\\moments_MIX.json'\n",
    "\n",
    "x = pd.read_json(file)\n",
    "x.plot(y='distance')\n",
    "x.plot(y='allure')\n",
    "x.plot(y='tilt')\n",
    "x.plot(y='speed')\n",
    "x.plot(y='acceleration')\n",
    "x.plot(y='amplitude')\n",
    "x.plot(y='bpm')\n",
    "x.plot(y='pace')\n",
    "x.plot(y='regularity')\n",
    "x.plot(y='symmetry')"
   ]
  },
  {
   "cell_type": "code",
   "execution_count": 35,
   "metadata": {},
   "outputs": [],
   "source": [
    "path = r'C:\\Users\\Ithan Velarde\\Desktop\\Stage 2020\\Horse Data\\Small_dataset'\n",
    "target_file = 'hor.json'\n",
    "\n",
    "def file_extraction(path):\n",
    "    directories = glob.glob(path + '\\*')\n",
    "    tfiles = []\n",
    "    files = []\n",
    "    for d in directories:\n",
    "        tfiles.extend(glob.glob(d + '\\*'))\n",
    "    \n",
    "    for f in tfiles:\n",
    "        if(target_file in f):\n",
    "            files.append(f)\n",
    "    return files\n",
    "\n",
    "def file_to_panda(files):\n",
    "    data = []\n",
    "    for f in files:\n",
    "        x = pd.read_json(f)\n",
    "        name = os.path.splitext(f)[0]\n",
    "        name += '_MIX.json'\n",
    "        x.name = name\n",
    "        data.append(x)\n",
    "    return data"
   ]
  },
  {
   "cell_type": "code",
   "execution_count": null,
   "metadata": {
    "scrolled": false
   },
   "outputs": [],
   "source": [
    "data = file_to_panda(file_extraction(path))\n",
    "for d in data:\n",
    "    print(d.loc[['firstname', 'lastname']])"
   ]
  },
  {
   "cell_type": "code",
   "execution_count": null,
   "metadata": {},
   "outputs": [],
   "source": []
  },
  {
   "cell_type": "code",
   "execution_count": null,
   "metadata": {},
   "outputs": [],
   "source": []
  }
 ],
 "metadata": {
  "kernelspec": {
   "display_name": "Python 3",
   "language": "python",
   "name": "python3"
  },
  "language_info": {
   "codemirror_mode": {
    "name": "ipython",
    "version": 3
   },
   "file_extension": ".py",
   "mimetype": "text/x-python",
   "name": "python",
   "nbconvert_exporter": "python",
   "pygments_lexer": "ipython3",
   "version": "3.7.1"
  }
 },
 "nbformat": 4,
 "nbformat_minor": 2
}
