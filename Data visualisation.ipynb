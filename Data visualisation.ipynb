{
 "cells": [
  {
   "cell_type": "code",
   "execution_count": 1,
   "metadata": {},
   "outputs": [],
   "source": [
    "import pandas as pd\n",
    "\n",
    "%matplotlib inline"
   ]
  },
  {
   "cell_type": "code",
   "execution_count": null,
   "metadata": {
    "scrolled": false
   },
   "outputs": [],
   "source": [
    "path = r'C:\\Users\\Ithan Velarde\\Desktop\\Stage 2020\\Horse Data\\Small_dataset_in_csv1\\15265\\moments.csv'\n",
    "x = pd.read_csv(path)\n",
    "x.plot(x='timestamp', y='latitude')\n",
    "x.plot(x='timestamp', y='longitude')\n",
    "x.plot(x='timestamp', y='distance')\n",
    "x.plot(x='timestamp', y='allure')\n",
    "x.plot(x='timestamp', y='tilt')\n",
    "x.plot(x='timestamp', y='altitude')\n",
    "x.plot(x='timestamp', y='speed')\n",
    "x.plot(x='timestamp', y='acceleration')\n",
    "x.plot(x='timestamp', y='amplitude')\n",
    "x.plot(x='timestamp', y='bpm')\n",
    "x.plot(x='timestamp', y='pace')\n",
    "x.plot(x='timestamp', y='propulsion')\n",
    "x.plot(x='timestamp', y='run')\n",
    "x.plot(x='timestamp', y='alert')\n",
    "x.plot(x='timestamp', y='regularity')\n",
    "x.plot(x='timestamp', y='symmetry')\n",
    "x.plot(x='timestamp', y='heart_rate_variability')\n",
    "x.plot(x='timestamp', y='lo_cardio')"
   ]
  },
  {
   "cell_type": "code",
   "execution_count": null,
   "metadata": {
    "scrolled": true
   },
   "outputs": [],
   "source": [
    "path = r'C:\\Users\\Ithan Velarde\\Desktop\\Stage 2020\\Horse Data\\Small_dataset_in_csv\\15265\\insight.csv'\n",
    "y = pd.read_csv(path)\n",
    "y"
   ]
  },
  {
   "cell_type": "code",
   "execution_count": null,
   "metadata": {
    "scrolled": true
   },
   "outputs": [],
   "source": [
    "w = pd.read_json(r'C:\\Users\\Ithan Velarde\\Desktop\\Stage 2020\\Horse Data\\Small_dataset_in_csv1\\15198\\test.json')\n",
    "w.set_index('time')"
   ]
  }
 ],
 "metadata": {
  "kernelspec": {
   "display_name": "Python 3",
   "language": "python",
   "name": "python3"
  },
  "language_info": {
   "codemirror_mode": {
    "name": "ipython",
    "version": 3
   },
   "file_extension": ".py",
   "mimetype": "text/x-python",
   "name": "python",
   "nbconvert_exporter": "python",
   "pygments_lexer": "ipython3",
   "version": "3.7.1"
  }
 },
 "nbformat": 4,
 "nbformat_minor": 2
}
